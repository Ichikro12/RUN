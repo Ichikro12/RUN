{
 "cells": [
  {
   "cell_type": "code",
   "execution_count": null,
   "id": "fa8f9a6a",
   "metadata": {},
   "outputs": [],
   "source": [
    "!streamlit run AB.py"
   ]
  },
  {
   "cell_type": "code",
   "execution_count": null,
   "id": "db16aebe",
   "metadata": {},
   "outputs": [],
   "source": []
  }
 ],
 "metadata": {
  "kernelspec": {
   "display_name": "Python 3 (ipykernel)",
   "language": "python",
   "name": "python3"
  },
  "language_info": {
   "codemirror_mode": {
    "name": "ipython",
    "version": 3
   },
   "file_extension": ".py",
   "mimetype": "text/x-python",
   "name": "python",
   "nbconvert_exporter": "python",
   "pygments_lexer": "ipython3",
   "version": "3.11.5"
  }
 },
 "nbformat": 4,
 "nbformat_minor": 5
}
